{
 "cells": [
  {
   "cell_type": "markdown",
   "metadata": {},
   "source": [
    "# Data Analysis of NBA Shot Clock Data (Part I)"
   ]
  },
  {
   "cell_type": "markdown",
   "metadata": {},
   "source": [
    "### Now that we've cleaned up our data we can now start to explore some trends and patters in our data. We can start to answer some questions like the following:\n",
    "\n",
    " * **What were some league averages? (3 Point %, 2 Point %, Shot Distance, etc.)**\n",
    " * **Who took the most 3s? Most 3s per distance?**\n",
    " * **Who holds onto the ball the most?**\n",
    " \n",
    "And a bunch more questions can be answered from this data. We'll first load up the final dataset that we had saved from the final data cleaning notebook"
   ]
  },
  {
   "cell_type": "code",
   "execution_count": 2,
   "metadata": {
    "collapsed": false
   },
   "outputs": [
    {
     "data": {
      "text/html": [
       "<div>\n",
       "<table border=\"1\" class=\"dataframe\">\n",
       "  <thead>\n",
       "    <tr style=\"text-align: right;\">\n",
       "      <th></th>\n",
       "      <th>Game Id</th>\n",
       "      <th>Date</th>\n",
       "      <th>Home Team</th>\n",
       "      <th>Away Team</th>\n",
       "      <th>Winning Team</th>\n",
       "      <th>Losing Team</th>\n",
       "      <th>Final Margin</th>\n",
       "      <th>Shot Number</th>\n",
       "      <th>Period</th>\n",
       "      <th>Game Clock</th>\n",
       "      <th>Shot Clock</th>\n",
       "      <th>Dribbles</th>\n",
       "      <th>Touch Time</th>\n",
       "      <th>Shot Dist</th>\n",
       "      <th>Pts Type</th>\n",
       "      <th>Shot Result</th>\n",
       "      <th>Closest Defender</th>\n",
       "      <th>Closest Defender Player Id</th>\n",
       "      <th>Close Def Dist</th>\n",
       "      <th>Fgm</th>\n",
       "      <th>Pts</th>\n",
       "      <th>Player Name</th>\n",
       "      <th>Player Id</th>\n",
       "    </tr>\n",
       "  </thead>\n",
       "  <tbody>\n",
       "    <tr>\n",
       "      <th>0</th>\n",
       "      <td>21400899</td>\n",
       "      <td>2015-03-04</td>\n",
       "      <td>BKN</td>\n",
       "      <td>CHA</td>\n",
       "      <td>CHA</td>\n",
       "      <td>BKN</td>\n",
       "      <td>24</td>\n",
       "      <td>1</td>\n",
       "      <td>1</td>\n",
       "      <td>00:01:09</td>\n",
       "      <td>10.8</td>\n",
       "      <td>2</td>\n",
       "      <td>1.9</td>\n",
       "      <td>7.7</td>\n",
       "      <td>2</td>\n",
       "      <td>made</td>\n",
       "      <td>Anderson, Alan</td>\n",
       "      <td>101187</td>\n",
       "      <td>1.3</td>\n",
       "      <td>1</td>\n",
       "      <td>2</td>\n",
       "      <td>Roberts, Brian</td>\n",
       "      <td>203148</td>\n",
       "    </tr>\n",
       "    <tr>\n",
       "      <th>1</th>\n",
       "      <td>21400899</td>\n",
       "      <td>2015-03-04</td>\n",
       "      <td>BKN</td>\n",
       "      <td>CHA</td>\n",
       "      <td>CHA</td>\n",
       "      <td>BKN</td>\n",
       "      <td>24</td>\n",
       "      <td>2</td>\n",
       "      <td>1</td>\n",
       "      <td>00:00:14</td>\n",
       "      <td>3.4</td>\n",
       "      <td>0</td>\n",
       "      <td>0.8</td>\n",
       "      <td>28.2</td>\n",
       "      <td>3</td>\n",
       "      <td>missed</td>\n",
       "      <td>Bogdanovic, Bojan</td>\n",
       "      <td>202711</td>\n",
       "      <td>6.1</td>\n",
       "      <td>0</td>\n",
       "      <td>0</td>\n",
       "      <td>Roberts, Brian</td>\n",
       "      <td>203148</td>\n",
       "    </tr>\n",
       "    <tr>\n",
       "      <th>2</th>\n",
       "      <td>21400899</td>\n",
       "      <td>2015-03-04</td>\n",
       "      <td>BKN</td>\n",
       "      <td>CHA</td>\n",
       "      <td>CHA</td>\n",
       "      <td>BKN</td>\n",
       "      <td>24</td>\n",
       "      <td>3</td>\n",
       "      <td>1</td>\n",
       "      <td>00:00:00</td>\n",
       "      <td>0.0</td>\n",
       "      <td>3</td>\n",
       "      <td>2.7</td>\n",
       "      <td>10.1</td>\n",
       "      <td>2</td>\n",
       "      <td>missed</td>\n",
       "      <td>Bogdanovic, Bojan</td>\n",
       "      <td>202711</td>\n",
       "      <td>0.9</td>\n",
       "      <td>0</td>\n",
       "      <td>0</td>\n",
       "      <td>Roberts, Brian</td>\n",
       "      <td>203148</td>\n",
       "    </tr>\n",
       "    <tr>\n",
       "      <th>3</th>\n",
       "      <td>21400899</td>\n",
       "      <td>2015-03-04</td>\n",
       "      <td>BKN</td>\n",
       "      <td>CHA</td>\n",
       "      <td>CHA</td>\n",
       "      <td>BKN</td>\n",
       "      <td>24</td>\n",
       "      <td>4</td>\n",
       "      <td>2</td>\n",
       "      <td>00:11:47</td>\n",
       "      <td>10.3</td>\n",
       "      <td>2</td>\n",
       "      <td>1.9</td>\n",
       "      <td>17.2</td>\n",
       "      <td>2</td>\n",
       "      <td>missed</td>\n",
       "      <td>Brown, Markel</td>\n",
       "      <td>203900</td>\n",
       "      <td>3.4</td>\n",
       "      <td>0</td>\n",
       "      <td>0</td>\n",
       "      <td>Roberts, Brian</td>\n",
       "      <td>203148</td>\n",
       "    </tr>\n",
       "    <tr>\n",
       "      <th>4</th>\n",
       "      <td>21400899</td>\n",
       "      <td>2015-03-04</td>\n",
       "      <td>BKN</td>\n",
       "      <td>CHA</td>\n",
       "      <td>CHA</td>\n",
       "      <td>BKN</td>\n",
       "      <td>24</td>\n",
       "      <td>5</td>\n",
       "      <td>2</td>\n",
       "      <td>00:10:34</td>\n",
       "      <td>10.9</td>\n",
       "      <td>2</td>\n",
       "      <td>2.7</td>\n",
       "      <td>3.7</td>\n",
       "      <td>2</td>\n",
       "      <td>missed</td>\n",
       "      <td>Young, Thaddeus</td>\n",
       "      <td>201152</td>\n",
       "      <td>1.1</td>\n",
       "      <td>0</td>\n",
       "      <td>0</td>\n",
       "      <td>Roberts, Brian</td>\n",
       "      <td>203148</td>\n",
       "    </tr>\n",
       "  </tbody>\n",
       "</table>\n",
       "</div>"
      ],
      "text/plain": [
       "    Game Id        Date Home Team Away Team Winning Team Losing Team  \\\n",
       "0  21400899  2015-03-04       BKN       CHA          CHA         BKN   \n",
       "1  21400899  2015-03-04       BKN       CHA          CHA         BKN   \n",
       "2  21400899  2015-03-04       BKN       CHA          CHA         BKN   \n",
       "3  21400899  2015-03-04       BKN       CHA          CHA         BKN   \n",
       "4  21400899  2015-03-04       BKN       CHA          CHA         BKN   \n",
       "\n",
       "   Final Margin  Shot Number  Period Game Clock  Shot Clock  Dribbles  \\\n",
       "0            24            1       1   00:01:09        10.8         2   \n",
       "1            24            2       1   00:00:14         3.4         0   \n",
       "2            24            3       1   00:00:00         0.0         3   \n",
       "3            24            4       2   00:11:47        10.3         2   \n",
       "4            24            5       2   00:10:34        10.9         2   \n",
       "\n",
       "   Touch Time  Shot Dist  Pts Type Shot Result   Closest Defender  \\\n",
       "0         1.9        7.7         2        made     Anderson, Alan   \n",
       "1         0.8       28.2         3      missed  Bogdanovic, Bojan   \n",
       "2         2.7       10.1         2      missed  Bogdanovic, Bojan   \n",
       "3         1.9       17.2         2      missed      Brown, Markel   \n",
       "4         2.7        3.7         2      missed    Young, Thaddeus   \n",
       "\n",
       "   Closest Defender Player Id  Close Def Dist  Fgm  Pts     Player Name  \\\n",
       "0                      101187             1.3    1    2  Roberts, Brian   \n",
       "1                      202711             6.1    0    0  Roberts, Brian   \n",
       "2                      202711             0.9    0    0  Roberts, Brian   \n",
       "3                      203900             3.4    0    0  Roberts, Brian   \n",
       "4                      201152             1.1    0    0  Roberts, Brian   \n",
       "\n",
       "   Player Id  \n",
       "0     203148  \n",
       "1     203148  \n",
       "2     203148  \n",
       "3     203148  \n",
       "4     203148  "
      ]
     },
     "execution_count": 2,
     "metadata": {},
     "output_type": "execute_result"
    }
   ],
   "source": [
    "import pandas as  pd\n",
    "import os\n",
    "\n",
    "pd.set_option('display.max_columns', 30)\n",
    "\n",
    "parent_path = os.path.dirname(os.path.dirname(os.getcwd()))\n",
    "\n",
    "replace_double_slash = parent_path.replace('\\\\', '/')\n",
    "\n",
    "data_path = replace_double_slash + '/data/shot_logs_clean_final.csv'\n",
    "\n",
    "nba_shot_data = pd.read_csv(data_path)\n",
    "\n",
    "nba_shot_data.head()"
   ]
  },
  {
   "cell_type": "markdown",
   "metadata": {},
   "source": [
    "Let's answer one of our questions. What was the league averages for some of these metrics across the board? The variables in question will be the following:\n",
    "\n",
    "* **Dribbles**\n",
    "* **Touch Time**\n",
    "* **Shot Distance**\n",
    "* **Closest Defender Distance**\n",
    "* ** % 2 Points Made **\n",
    "* ** % 3 Points Made**\n",
    "\n",
    "So, we'll do the first four in one part and the other two in a separate part"
   ]
  },
  {
   "cell_type": "code",
   "execution_count": 3,
   "metadata": {
    "collapsed": false
   },
   "outputs": [
    {
     "name": "stdout",
     "output_type": "stream",
     "text": [
      "League Average Dribbles: 2.03\n",
      "League Average Touch Time: 2.77\n",
      "League Average Shot Dist: 13.57\n",
      "League Average Close Def Dist: 4.12\n",
      "League Average 2 PT FG % : 48.86%\n",
      "League Average 3 PT FG % : 35.14%\n"
     ]
    }
   ],
   "source": [
    "import numpy as np\n",
    "\n",
    "col_list = ['Dribbles', 'Touch Time', 'Shot Dist', 'Close Def Dist']\n",
    "\n",
    "quant = nba_shot_data[col_list]\n",
    "\n",
    "two_pointers = nba_shot_data[nba_shot_data['Pts Type'] == 2][['Fgm', 'Pts Type']].reset_index(drop=True)\n",
    "three_pointers = nba_shot_data[nba_shot_data['Pts Type'] == 3][['Fgm', 'Pts Type']].reset_index(drop=True)\n",
    "averages = quant.apply(np.mean, axis=0)\n",
    "\n",
    "\n",
    "for item in list(averages.index):\n",
    "    print(\"League Average \" + item + \": \" + \"{:.2f}\".format(averages[item]))\n",
    "\n",
    "print(\"League Average 2 PT FG % : \" + '{:.2%}'.format(two_pointers['Fgm'].mean()))\n",
    "print(\"League Average 3 PT FG % : \" + '{:.2%}'.format(three_pointers['Fgm'].mean()))"
   ]
  },
  {
   "cell_type": "markdown",
   "metadata": {},
   "source": [
    "So we see that that the league averages for the metrics listed are the following for the 2014-2015 season:\n",
    "\n",
    "* Number of dribbles before the shot was on average 2 times\n",
    "* Average number of seconds the player held onto the ball before shooring was about 3 times\n",
    "* Players shot on average between 13 to 14 feet from the basket\n",
    "* The closest defender (not necessarily the correct defender) was 4 feet away from the defender about to shoot\n",
    "* The average shooting percentage of 2 pointers was about 49%\n",
    "* The average shooting percentage on three pointers was about 35%\n",
    "\n",
    "Using the average gives us somewhat of a baseline indicator of what to expect. We can further analyze the distribution of these factors with box plots, histograms to assess whether or not average should be truly used, but that will be covered for another time."
   ]
  },
  {
   "cell_type": "markdown",
   "metadata": {},
   "source": [
    "Now we'll answer another question:\n",
    "\n",
    "* **Who were the top 10 shot takers? What were the average number of shots taken?**\n",
    "\n",
    "This is going to be important so in further analysis we can limit our candidates on a baseline number of shots needed to qualify"
   ]
  },
  {
   "cell_type": "code",
   "execution_count": 4,
   "metadata": {
    "collapsed": false
   },
   "outputs": [
    {
     "name": "stdout",
     "output_type": "stream",
     "text": [
      "Player Id  Player Name       \n",
      "201935     Harden, James         1044\n",
      "101145     Ellis, Mnta           1035\n",
      "200746     Aldridge, Lamarcus    1034\n",
      "2544       James, Lebron          977\n",
      "201566     Westbrook, Russell     969\n",
      "202691     Thompson, Klay         968\n",
      "201939     Curry, Stephen         965\n",
      "203081     Lillard, Damian        959\n",
      "202681     Irving, Kyrie          942\n",
      "201936     Evans, Tyreke          911\n",
      "dtype: int64\n",
      "\n",
      "\n",
      "Average number of shots by a player: 449\n"
     ]
    }
   ],
   "source": [
    "grouped_data = nba_shot_data.groupby(by=['Player Id', 'Player Name'], as_index=False)\n",
    "\n",
    "print(grouped_data.size().sort_values(ascending=False).head(10))\n",
    "\n",
    "print(\"\\n\")\n",
    "\n",
    "print(\"Average number of shots by a player: \" + '{:.0f}'.format(grouped_data.size().mean()))"
   ]
  },
  {
   "cell_type": "markdown",
   "metadata": {
    "collapsed": true
   },
   "source": [
    "Let's visualize this distribution via a bar chart "
   ]
  },
  {
   "cell_type": "code",
   "execution_count": 74,
   "metadata": {
    "collapsed": false
   },
   "outputs": [
    {
     "name": "stdout",
     "output_type": "stream",
     "text": [
      "[  1.   2.   3.   4.   5.   6.   7.   8.   9.  10.]\n"
     ]
    },
    {
     "data": {
      "image/png": "[encoded data removed]",
      "text/plain": [
       "<matplotlib.figure.Figure at 0x253f7f28fd0>"
      ]
     },
     "metadata": {},
     "output_type": "display_data"
    }
   ],
   "source": [
    "from matplotlib import pyplot as plt\n",
    "\n",
    "%matplotlib inline\n",
    "\n",
    "grouped_data = nba_shot_data.groupby(by=['Player Name'])\n",
    "\n",
    "Top_Ten = grouped_data.size().sort_values(ascending=False)[:10]\n",
    "\n",
    "plt.style.use('ggplot')\n",
    "\n",
    "x_vals = np.array(Top_Ten.index)\n",
    "\n",
    "y_vals = np.array(Top_Ten[0:10])\n",
    "\n",
    "ind = np.linspace(1, 10, 10)\n",
    "\n",
    "print(ind)\n",
    "\n",
    "width = 0.7\n",
    "\n",
    "fig = plt.figure(figsize=(10,6))\n",
    "\n",
    "ax = fig.add_subplot(111)\n",
    "\n",
    "ax.set_xlim((0, Top_Ten.shape[0]+1))\n",
    "\n",
    "ax.set_ylim((0, np.max(Top_Ten) + 200))\n",
    "\n",
    "ax.set_xticks(ind)\n",
    "\n",
    "ax.set_xticklabels(x_vals, rotation=45, ha=\"right\")\n",
    "\n",
    "ax.set_title(\"Top Ten Players With the Most Shot Attempts\")\n",
    "\n",
    "ax.set_xlabel(\"Players\")\n",
    "\n",
    "ax.set_ylabel(\"Shot Attempts\")\n",
    "\n",
    "def autolabel(rects):\n",
    "    \"\"\"\n",
    "    Attach a text label above each bar displaying its height\n",
    "    \"\"\"\n",
    "    for rect in rects:\n",
    "        height = rect.get_height()\n",
    "        ax.text(rect.get_x() + rect.get_width()/2., 1.05*height,\n",
    "                '%d' % int(height),\n",
    "                ha='center', va='bottom')\n",
    "\n",
    "rects1 = ax.bar(ind, y_vals, width)\n",
    "\n",
    "autolabel(rects1)\n",
    "\n",
    "plt.show()"
   ]
  },
  {
   "cell_type": "code",
   "execution_count": null,
   "metadata": {
    "collapsed": true
   },
   "outputs": [],
   "source": []
  }
 ],
 "metadata": {
  "kernelspec": {
   "display_name": "Python 3",
   "language": "python",
   "name": "python3"
  },
  "language_info": {
   "codemirror_mode": {
    "name": "ipython",
    "version": 3
   },
   "file_extension": ".py",
   "mimetype": "text/x-python",
   "name": "python",
   "nbconvert_exporter": "python",
   "pygments_lexer": "ipython3",
   "version": "3.6.0"
  }
 },
 "nbformat": 4,
 "nbformat_minor": 2
}
